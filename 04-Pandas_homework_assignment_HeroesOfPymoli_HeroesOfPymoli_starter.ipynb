{
 "cells": [
  {
   "cell_type": "markdown",
   "metadata": {},
   "source": [
    "### Note\n",
    "* Instructions have been included for each segment. You do not have to follow them exactly, but they are included to help you think through the steps."
   ]
  },
  {
   "cell_type": "code",
   "execution_count": 1,
   "metadata": {},
   "outputs": [],
   "source": [
    "import numpy as np\n",
    "import pandas as pd\n",
    "\n",
    "# File to Load\n",
    "\n",
    "\n",
    "file_to_load = \"purchase_data.csv\"\n",
    "\n",
    "# Read Purchasing File + store into Pandas\n",
    "\n",
    "purchase_data = pd.read_csv(file_to_load)\n",
    "\n"
   ]
  },
  {
   "cell_type": "markdown",
   "metadata": {},
   "source": [
    "## Player Count"
   ]
  },
  {
   "cell_type": "markdown",
   "metadata": {},
   "source": [
    "* Display the total number of players\n"
   ]
  },
  {
   "cell_type": "code",
   "execution_count": 2,
   "metadata": {},
   "outputs": [
    {
     "data": {
      "text/html": [
       "<div>\n",
       "<style scoped>\n",
       "    .dataframe tbody tr th:only-of-type {\n",
       "        vertical-align: middle;\n",
       "    }\n",
       "\n",
       "    .dataframe tbody tr th {\n",
       "        vertical-align: top;\n",
       "    }\n",
       "\n",
       "    .dataframe thead th {\n",
       "        text-align: right;\n",
       "    }\n",
       "</style>\n",
       "<table border=\"1\" class=\"dataframe\">\n",
       "  <thead>\n",
       "    <tr style=\"text-align: right;\">\n",
       "      <th></th>\n",
       "      <th>Total Players</th>\n",
       "    </tr>\n",
       "  </thead>\n",
       "  <tbody>\n",
       "    <tr>\n",
       "      <td>0</td>\n",
       "      <td>576</td>\n",
       "    </tr>\n",
       "  </tbody>\n",
       "</table>\n",
       "</div>"
      ],
      "text/plain": [
       "   Total Players\n",
       "0            576"
      ]
     },
     "execution_count": 2,
     "metadata": {},
     "output_type": "execute_result"
    }
   ],
   "source": [
    "player_demographic = purchase_data.loc[:, [\"Gender\", \"SN\", \"Age\"]]\n",
    "player_demographic.head()\n",
    "player_count = len(purchase_data[\"SN\"].value_counts())\n",
    "total_players = pd.DataFrame({\"Total Players\": [player_count]})\n",
    "total_players"
   ]
  },
  {
   "cell_type": "markdown",
   "metadata": {},
   "source": [
    "## Purchasing Analysis (Total)"
   ]
  },
  {
   "cell_type": "markdown",
   "metadata": {},
   "source": [
    "* Run basic calculations to obtain number of unique items, average price, etc.\n",
    "\n",
    "\n",
    "* Create a summary data frame to hold the results\n",
    "\n",
    "\n",
    "* Optional: give the displayed data cleaner formatting\n",
    "\n",
    "\n",
    "* Display the summary data frame\n"
   ]
  },
  {
   "cell_type": "code",
   "execution_count": 3,
   "metadata": {
    "scrolled": true
   },
   "outputs": [
    {
     "data": {
      "text/html": [
       "<style  type=\"text/css\" >\n",
       "</style><table id=\"T_8d4753e6_6d42_11ea_984a_784f435ce1ff\" ><thead>    <tr>        <th class=\"blank level0\" ></th>        <th class=\"col_heading level0 col0\" >The # of Unique Items</th>        <th class=\"col_heading level0 col1\" >Average Price</th>        <th class=\"col_heading level0 col2\" >Number of Purchases</th>        <th class=\"col_heading level0 col3\" >Total Revenue</th>    </tr></thead><tbody>\n",
       "                <tr>\n",
       "                        <th id=\"T_8d4753e6_6d42_11ea_984a_784f435ce1fflevel0_row0\" class=\"row_heading level0 row0\" >0</th>\n",
       "                        <td id=\"T_8d4753e6_6d42_11ea_984a_784f435ce1ffrow0_col0\" class=\"data row0 col0\" >183</td>\n",
       "                        <td id=\"T_8d4753e6_6d42_11ea_984a_784f435ce1ffrow0_col1\" class=\"data row0 col1\" >$3.05</td>\n",
       "                        <td id=\"T_8d4753e6_6d42_11ea_984a_784f435ce1ffrow0_col2\" class=\"data row0 col2\" >780</td>\n",
       "                        <td id=\"T_8d4753e6_6d42_11ea_984a_784f435ce1ffrow0_col3\" class=\"data row0 col3\" >$2,379.77</td>\n",
       "            </tr>\n",
       "    </tbody></table>"
      ],
      "text/plain": [
       "<pandas.io.formats.style.Styler at 0x11d5e8790>"
      ]
     },
     "execution_count": 3,
     "metadata": {},
     "output_type": "execute_result"
    }
   ],
   "source": [
    "#Run basic calculations to obtain number of unique items, average price, etc.\n",
    "\n",
    "unique_items = len((purchase_data[\"Item ID\"]).unique())\n",
    "price_average = (purchase_data[\"Price\"]).mean()\n",
    "number_of_purchases = (purchase_data[\"Purchase ID\"]).count()\n",
    "revenue_total = (purchase_data[\"Price\"]).sum()\n",
    "\n",
    "#Create a summary data frame to hold the results\n",
    "display_summary_df = pd.DataFrame({\"The # of Unique Items\":[unique_items],\n",
    "                           \"Average Price\":[price_average], \n",
    "                           \"Number of Purchases\": [number_of_purchases], \n",
    "                           \"Total Revenue\": [revenue_total]})\n",
    "\n",
    "#Display the summary data frame\n",
    "display_summary_df.style.format({'Average Price':\"${:,.2f}\",\n",
    "                         'Total Revenue': '${:,.2f}'})"
   ]
  },
  {
   "cell_type": "markdown",
   "metadata": {},
   "source": [
    "## Gender Demographics"
   ]
  },
  {
   "cell_type": "markdown",
   "metadata": {},
   "source": [
    "* Percentage and Count of Male Players\n",
    "\n",
    "\n",
    "* Percentage and Count of Female Players\n",
    "\n",
    "\n",
    "* Percentage and Count of Other / Non-Disclosed\n",
    "\n",
    "\n"
   ]
  },
  {
   "cell_type": "code",
   "execution_count": 4,
   "metadata": {},
   "outputs": [
    {
     "data": {
      "text/html": [
       "<style  type=\"text/css\" >\n",
       "</style><table id=\"T_8e8458da_6d42_11ea_984a_784f435ce1ff\" ><thead>    <tr>        <th class=\"blank level0\" ></th>        <th class=\"col_heading level0 col0\" >Male count</th>        <th class=\"col_heading level0 col1\" >Male %</th>        <th class=\"col_heading level0 col2\" >Female count</th>        <th class=\"col_heading level0 col3\" >Female %</th>        <th class=\"col_heading level0 col4\" >Other count</th>        <th class=\"col_heading level0 col5\" >Other %</th>    </tr></thead><tbody>\n",
       "                <tr>\n",
       "                        <th id=\"T_8e8458da_6d42_11ea_984a_784f435ce1fflevel0_row0\" class=\"row_heading level0 row0\" >0</th>\n",
       "                        <td id=\"T_8e8458da_6d42_11ea_984a_784f435ce1ffrow0_col0\" class=\"data row0 col0\" >652</td>\n",
       "                        <td id=\"T_8e8458da_6d42_11ea_984a_784f435ce1ffrow0_col1\" class=\"data row0 col1\" >83.59</td>\n",
       "                        <td id=\"T_8e8458da_6d42_11ea_984a_784f435ce1ffrow0_col2\" class=\"data row0 col2\" >113</td>\n",
       "                        <td id=\"T_8e8458da_6d42_11ea_984a_784f435ce1ffrow0_col3\" class=\"data row0 col3\" >14.49</td>\n",
       "                        <td id=\"T_8e8458da_6d42_11ea_984a_784f435ce1ffrow0_col4\" class=\"data row0 col4\" >15</td>\n",
       "                        <td id=\"T_8e8458da_6d42_11ea_984a_784f435ce1ffrow0_col5\" class=\"data row0 col5\" >1.92</td>\n",
       "            </tr>\n",
       "    </tbody></table>"
      ],
      "text/plain": [
       "<pandas.io.formats.style.Styler at 0x11e154510>"
      ]
     },
     "execution_count": 4,
     "metadata": {},
     "output_type": "execute_result"
    }
   ],
   "source": [
    "gender_demographics = player_demographic[\"Gender\"].value_counts()\n",
    "\n",
    "males = gender_demographics[\"Male\"]\n",
    "\n",
    "females = gender_demographics[\"Female\"]\n",
    "\n",
    "other = gender_demographics[\"Other / Non-Disclosed\"]\n",
    "\n",
    "gender_totals = gender_demographics[\"Male\"] + gender_demographics[\"Female\"] + gender_demographics[\"Other / Non-Disclosed\"]\n",
    "\n",
    "male_percent = gender_demographics[\"Male\"] / gender_totals * 100\n",
    "\n",
    "female_percent = gender_demographics[\"Female\"] / gender_totals * 100\n",
    "\n",
    "other_percent = gender_demographics[\"Other / Non-Disclosed\"] / gender_totals * 100\n",
    "\n",
    "#print(male_percent)\n",
    "#print(female_percent)\n",
    "#print(other_percent)\n",
    "\n",
    "#Create a summary data frame to hold the results\n",
    "display_gender_summary_df = pd.DataFrame({\"Male count\": [males],\n",
    "                                   \"Male %\": [male_percent],\n",
    "                                   \"Female count\": [females],\n",
    "                                   \"Female %\": [female_percent],\n",
    "                                   \"Other count\": [other],\n",
    "                                   \"Other %\": [other_percent]})\n",
    "                          \n",
    "#Display the summary data frame\n",
    "display_gender_summary_df.style.format({'Male %':\"{:,.2f}\",\n",
    "                                        'Female %':\"{:,.2f}\",\n",
    "                         'Other %': '{:,.2f}'})\n",
    "\n",
    "\n",
    "\n",
    "#gender_percentage = gender_demographics / player_count * 100\n",
    "\n",
    "#gender_demographics_clean = pd.DataFrame({\"Total Count\": gender_demographics,\n",
    "                                    #\"% of Players\": gender_percentage})\n",
    "\n",
    "#gender_demographics_clean = gender_demographics_clean.round(2)\n",
    "\n",
    "#gender_demographics_clean"
   ]
  },
  {
   "cell_type": "markdown",
   "metadata": {},
   "source": [
    "\n",
    "## Purchasing Analysis (Gender)"
   ]
  },
  {
   "cell_type": "markdown",
   "metadata": {},
   "source": []
  },
  {
   "cell_type": "code",
   "execution_count": null,
   "metadata": {},
   "outputs": [],
   "source": []
  },
  {
   "cell_type": "markdown",
   "metadata": {},
   "source": [
    "## Age Demographics"
   ]
  },
  {
   "cell_type": "markdown",
   "metadata": {},
   "source": [
    "* Establish bins for ages\n",
    "\n",
    "\n",
    "* Categorize the existing players using the age bins. Hint: use pd.cut()\n",
    "\n",
    "\n",
    "* Calculate the numbers and percentages by age group\n",
    "\n",
    "\n",
    "* Create a summary data frame to hold the results\n",
    "\n",
    "\n",
    "* Optional: round the percentage column to two decimal points\n",
    "\n",
    "\n",
    "* Display Age Demographics Table\n"
   ]
  },
  {
   "cell_type": "code",
   "execution_count": null,
   "metadata": {},
   "outputs": [],
   "source": []
  },
  {
   "cell_type": "markdown",
   "metadata": {},
   "source": [
    "## Purchasing Analysis (Age)"
   ]
  },
  {
   "cell_type": "markdown",
   "metadata": {},
   "source": [
    "* Bin the purchase_data data frame by age\n",
    "\n",
    "\n",
    "* Run basic calculations to obtain purchase count, avg. purchase price, avg. purchase total per person etc. in the table below\n",
    "\n",
    "\n",
    "* Create a summary data frame to hold the results\n",
    "\n",
    "\n",
    "* Optional: give the displayed data cleaner formatting\n",
    "\n",
    "\n",
    "* Display the summary data frame"
   ]
  },
  {
   "cell_type": "code",
   "execution_count": null,
   "metadata": {},
   "outputs": [],
   "source": []
  },
  {
   "cell_type": "markdown",
   "metadata": {},
   "source": [
    "## Top Spenders"
   ]
  },
  {
   "cell_type": "markdown",
   "metadata": {},
   "source": [
    "* Run basic calculations to obtain the results in the table below\n",
    "\n",
    "\n",
    "* Create a summary data frame to hold the results\n",
    "\n",
    "\n",
    "* Sort the total purchase value column in descending order\n",
    "\n",
    "\n",
    "* Optional: give the displayed data cleaner formatting\n",
    "\n",
    "\n",
    "* Display a preview of the summary data frame\n",
    "\n"
   ]
  },
  {
   "cell_type": "code",
   "execution_count": null,
   "metadata": {},
   "outputs": [],
   "source": []
  },
  {
   "cell_type": "markdown",
   "metadata": {},
   "source": [
    "## Most Popular Items"
   ]
  },
  {
   "cell_type": "markdown",
   "metadata": {},
   "source": [
    "* Retrieve the Item ID, Item Name, and Item Price columns\n",
    "\n",
    "\n",
    "* Group by Item ID and Item Name. Perform calculations to obtain purchase count, item price, and total purchase value\n",
    "\n",
    "\n",
    "* Create a summary data frame to hold the results\n",
    "\n",
    "\n",
    "* Sort the purchase count column in descending order\n",
    "\n",
    "\n",
    "* Optional: give the displayed data cleaner formatting\n",
    "\n",
    "\n",
    "* Display a preview of the summary data frame\n",
    "\n"
   ]
  },
  {
   "cell_type": "code",
   "execution_count": null,
   "metadata": {},
   "outputs": [],
   "source": []
  },
  {
   "cell_type": "markdown",
   "metadata": {},
   "source": [
    "## Most Profitable Items"
   ]
  },
  {
   "cell_type": "markdown",
   "metadata": {},
   "source": [
    "* Sort the above table by total purchase value in descending order\n",
    "\n",
    "\n",
    "* Optional: give the displayed data cleaner formatting\n",
    "\n",
    "\n",
    "* Display a preview of the data frame\n",
    "\n"
   ]
  },
  {
   "cell_type": "code",
   "execution_count": null,
   "metadata": {
    "scrolled": true
   },
   "outputs": [],
   "source": []
  }
 ],
 "metadata": {
  "anaconda-cloud": {},
  "kernel_info": {
   "name": "python3"
  },
  "kernelspec": {
   "display_name": "Python 3",
   "language": "python",
   "name": "python3"
  },
  "language_info": {
   "codemirror_mode": {
    "name": "ipython",
    "version": 3
   },
   "file_extension": ".py",
   "mimetype": "text/x-python",
   "name": "python",
   "nbconvert_exporter": "python",
   "pygments_lexer": "ipython3",
   "version": "3.7.4"
  },
  "latex_envs": {
   "LaTeX_envs_menu_present": true,
   "autoclose": false,
   "autocomplete": true,
   "bibliofile": "biblio.bib",
   "cite_by": "apalike",
   "current_citInitial": 1,
   "eqLabelWithNumbers": true,
   "eqNumInitial": 1,
   "hotkeys": {
    "equation": "Ctrl-E",
    "itemize": "Ctrl-I"
   },
   "labels_anchors": false,
   "latex_user_defs": false,
   "report_style_numbering": false,
   "user_envs_cfg": false
  },
  "nteract": {
   "version": "0.2.0"
  }
 },
 "nbformat": 4,
 "nbformat_minor": 2
}
